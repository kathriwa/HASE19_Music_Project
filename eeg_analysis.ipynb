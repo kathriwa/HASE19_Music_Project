{
 "cells": [
  {
   "cell_type": "code",
   "execution_count": 1,
   "metadata": {},
   "outputs": [],
   "source": [
    "%matplotlib inline\n",
    "import os\n",
    "import collections\n",
    "import itertools\n",
    "import pandas as pd\n",
    "import numpy as np\n",
    "from matplotlib import cm\n",
    "import matplotlib.pyplot as plt\n",
    "import seaborn as sns\n",
    "from statsmodels.stats.anova import AnovaRM"
   ]
  },
  {
   "cell_type": "markdown",
   "metadata": {},
   "source": [
    "# General  Pipeline:\n",
    "1. Filter out the columns that are not needed (only absolute alpha, beta, theta, blinkrate and hsi-precision are needed)\n",
    "2. Remove all rows with a bad signal quality (hsi-precision < 3) and remove recordings where less than 2/3 of the rows are left after cleaning\n",
    "3. Compute the baseline from the *break* recordings (last minute)\n",
    "4. Some matching to be able to group results by task as well as music condition\n",
    "5. Compute the average blinkrate per second and TDI/TEI\n",
    "6. Compute relative blinkrate/TDI/TEI by subtracting the baseline\n",
    "7. Put results for all participants into a dataframe and save to csv\n",
    "8. Desperately trying to find some patterns by calculating differences between all conditions\n",
    "9. Statistical test (RM ANOVA)\n",
    "\n",
    "We also tried grouping the data into different time intervals - pretty much everything between 10 secs and the full 6 mins - but stuck with the 60 second interval in the end."
   ]
  },
  {
   "cell_type": "markdown",
   "metadata": {},
   "source": [
    "# Preparation and Data Loading\n",
    "\n",
    "### Defining the relevant column names and directories"
   ]
  },
  {
   "cell_type": "markdown",
   "metadata": {},
   "source": [
    "## Split the filename to get participant ID, task number and programming or break condition\n",
    "The files are named with the following convention: `<participantID>_<task number>_<programming|break>.csv`"
   ]
  },
  {
   "cell_type": "code",
   "execution_count": 2,
   "metadata": {},
   "outputs": [],
   "source": [
    "def extract_file_info(filename):\n",
    "    split_name = filename.split('_')\n",
    "    p_id = split_name[0]\n",
    "    task_no = split_name[1]\n",
    "    task = split_name[2].split('.')[0]\n",
    "\n",
    "    return p_id, task_no, task"
   ]
  },
  {
   "cell_type": "markdown",
   "metadata": {},
   "source": [
    "## Load and clean data\n",
    "\n",
    "- Remove unnecessary columns\n",
    "- Drop empty rows\n",
    "- Filter out rows with a bad signal (hsi_precision > 2)"
   ]
  },
  {
   "cell_type": "code",
   "execution_count": 3,
   "metadata": {},
   "outputs": [],
   "source": [
    "def load_and_clean_file(path_to_file, filename):\n",
    "    df = pd.read_csv(path_to_file + filename)\n",
    "    # Remove unnecessary columns and drop empty rows\n",
    "    df_clean = df[[col for col in cols]].dropna(thresh=2).reset_index(drop=True)\n",
    "    # Group every 5 rows together to one row\n",
    "    df_clean = df_clean.groupby(np.arange(len(df_clean)) // 5).agg({'timestamps':'mean',\n",
    "                                                                'theta_absolute_1':'mean',\n",
    "                                                                'theta_absolute_2':'mean',\n",
    "                                                                'theta_absolute_3':'mean',\n",
    "                                                                'theta_absolute_4':'mean',\n",
    "                                                                'alpha_absolute_1': 'mean',\n",
    "                                                                'alpha_absolute_2': 'mean',\n",
    "                                                                'alpha_absolute_3': 'mean',\n",
    "                                                                'alpha_absolute_4': 'mean',\n",
    "                                                                'beta_absolute_1': 'mean',\n",
    "                                                                'beta_absolute_2': 'mean',\n",
    "                                                                'beta_absolute_3': 'mean',\n",
    "                                                                'beta_absolute_4': 'mean',\n",
    "                                                                'blink': 'mean',\n",
    "                                                                'hsi_precision_1': 'mean',\n",
    "                                                                'hsi_precision_2': 'mean',\n",
    "                                                                'hsi_precision_3': 'mean',\n",
    "                                                                'hsi_precision_4': 'mean'\n",
    "                                                               })\n",
    "    # remove rows with bad signal\n",
    "    df_good_signal = df_clean[(df_clean.hsi_precision_1 < 3) & (df_clean.hsi_precision_2 < 3) & \n",
    "                          (df_clean.hsi_precision_3 < 3) & (df_clean.hsi_precision_4 < 3)]\n",
    "    \n",
    "    return df_good_signal[['timestamps', 'theta_absolute_1', 'theta_absolute_2', 'theta_absolute_3',\n",
    "                           'theta_absolute_4', 'alpha_absolute_1', 'alpha_absolute_2', 'alpha_absolute_3', \n",
    "                           'alpha_absolute_4', 'beta_absolute_1', 'beta_absolute_2', 'beta_absolute_3',\n",
    "                           'beta_absolute_4', 'blink']]"
   ]
  },
  {
   "cell_type": "markdown",
   "metadata": {},
   "source": [
    "## Load music conditions to create lookup map for the programming conditions"
   ]
  },
  {
   "cell_type": "code",
   "execution_count": 4,
   "metadata": {},
   "outputs": [],
   "source": [
    "def load_music_map(filename):\n",
    "    music_conditions = pd.read_csv(filename, sep=';')\n",
    "    music_conditions = music_conditions[['ID', 'Music 1', 'Music 2', 'Music 3', 'Music 4']]\n",
    "    return music_conditions"
   ]
  },
  {
   "cell_type": "code",
   "execution_count": 5,
   "metadata": {},
   "outputs": [],
   "source": [
    "def extract_music_condition(music_file, p_id, task):\n",
    "    music_df = load_music_map(music_file)\n",
    "    music_condition = music_df.loc[music_df[\"ID\"] == p_id]\n",
    "    return int(music_condition.iloc[:, int(task)])"
   ]
  },
  {
   "cell_type": "markdown",
   "metadata": {},
   "source": [
    "# Compute baseline"
   ]
  },
  {
   "cell_type": "code",
   "execution_count": 6,
   "metadata": {},
   "outputs": [],
   "source": [
    "def filter_out_2nd_min(clean_df_break):\n",
    "    \n",
    "    # Find timestamps for last minute of recording\n",
    "    begin_last_min = max(clean_df_break.timestamps) - 60\n",
    "    # find index of first instance within that minute\n",
    "    begin_idx = (clean_df_break.timestamps.values >= begin_last_min).argmax()\n",
    "    # Split dataframe\n",
    "    df_min2 = clean_df_break.iloc[begin_idx:].reset_index(drop=True)\n",
    "    \n",
    "    return df_min2"
   ]
  },
  {
   "cell_type": "code",
   "execution_count": 7,
   "metadata": {},
   "outputs": [],
   "source": [
    "def compute_blink_per_sec(clean_df):\n",
    "    # blinkrate per sec\n",
    "    df_blink = clean_df[['timestamps', 'blink']]\n",
    "    df_blink['timestamps'] = df_blink['timestamps'].astype(int)\n",
    "    df_bps = df_blink.groupby(by=\"timestamps\").aggregate('mean')\n",
    "    \n",
    "    return df_bps\n",
    "\n",
    "def compute_blink_baseline(df_bps):\n",
    "    return np.mean(df_bps['blink'])"
   ]
  },
  {
   "cell_type": "code",
   "execution_count": 8,
   "metadata": {},
   "outputs": [],
   "source": [
    "def compute_eeg_baselines(clean_df):\n",
    "    # Baseline: mean of last minute\n",
    "\n",
    "    baseline_freq_list = [clean_df.theta_absolute_1.mean(), clean_df.theta_absolute_2.mean(),\n",
    "                          clean_df.theta_absolute_3.mean(), clean_df.theta_absolute_4.mean(),\n",
    "                          clean_df.alpha_absolute_1.mean(), clean_df.alpha_absolute_2.mean(),\n",
    "                          clean_df.alpha_absolute_3.mean(), clean_df.alpha_absolute_4.mean(),\n",
    "                          clean_df.beta_absolute_1.mean(), clean_df.beta_absolute_2.mean(),\n",
    "                          clean_df.beta_absolute_3.mean(), clean_df.beta_absolute_4.mean()] \n",
    "\n",
    "    baseline_df = pd.DataFrame([baseline_freq_list], columns=[\"theta_absolute_1\", \"theta_absolute_2\",\n",
    "                                                              \"theta_absolute_3\", \"theta_absolute_4\",\n",
    "                                                              \"alpha_absolute_1\", \"alpha_absolute_2\",\n",
    "                                                              \"alpha_absolute_3\", \"alpha_absolute_4\",\n",
    "                                                              \"beta_absolute_1\", \"beta_absolute_2\",\n",
    "                                                              \"beta_absolute_3\", \"beta_absolute_4\"])\n",
    "    \n",
    "    return baseline_df\n"
   ]
  },
  {
   "cell_type": "code",
   "execution_count": 9,
   "metadata": {},
   "outputs": [],
   "source": [
    "def compute_baseline(clean_df_break):\n",
    "    min2_df = filter_out_2nd_min(clean_df_break)\n",
    "    blinks = compute_blink_per_sec(min2_df)\n",
    "    blinks = compute_blink_baseline(blinks)\n",
    "    eegs = compute_eeg_baselines(min2_df)\n",
    "    return blinks, eegs"
   ]
  },
  {
   "cell_type": "markdown",
   "metadata": {},
   "source": [
    "# Normalize data with baseline"
   ]
  },
  {
   "cell_type": "code",
   "execution_count": 10,
   "metadata": {},
   "outputs": [],
   "source": [
    "def normalize_data(break_df, cleaned_df):\n",
    "    # get 1 sec averages\n",
    "    cleaned_df['timestamps'] = cleaned_df['timestamps'].astype(int)\n",
    "    grouped_df = cleaned_df.groupby(by='timestamps', as_index=False).aggregate('mean')\n",
    "    blink_base, eeg_base = compute_baseline(break_df)\n",
    "    # normalize blink\n",
    "    grouped_df['blink'] = grouped_df['blink'] - blink_base\n",
    "    # normalize eeg\n",
    "    for col in cols[1:13]:\n",
    "        grouped_df[col] = grouped_df[col] - eeg_base[col].values[0]\n",
    "    # get mean for 10 secs interval -> remove last digit and group by timestamp?\n",
    "    grouped_df['timestamps'] = grouped_df['timestamps'].astype(str).str[:-1].astype(np.int64)\n",
    "    df_10_secs = grouped_df.groupby(by='timestamps', as_index=False).aggregate('mean')\n",
    "    # normalize timestamp to time interval\n",
    "    time_1 = df_10_secs['timestamps'].values[0]\n",
    "    df_10_secs['timeinterval'] = df_10_secs['timestamps'] - time_1\n",
    "    \n",
    "    return df_10_secs"
   ]
  },
  {
   "cell_type": "markdown",
   "metadata": {},
   "source": [
    "# Compute Task Engagement and Task Difficulty Indices"
   ]
  },
  {
   "cell_type": "code",
   "execution_count": 11,
   "metadata": {},
   "outputs": [],
   "source": [
    "def compute_tei_tdi(normalized_df):\n",
    "    # avg values of sensors and compute tdi and tei\n",
    "    theta = pd.DataFrame(normalized_df[['theta_absolute_1', 'theta_absolute_2', \n",
    "                           'theta_absolute_3', 'theta_absolute_4']].mean(axis=1), columns=['theta'])\n",
    "    theta['timeinterval'] = normalized_df['timeinterval']\n",
    "    alpha = pd.DataFrame(normalized_df[['alpha_absolute_1', 'alpha_absolute_2', \n",
    "                           'alpha_absolute_3', 'alpha_absolute_4']].mean(axis=1), columns=['alpha'])\n",
    "    alpha['timeinterval'] = normalized_df['timeinterval']\n",
    "    beta = pd.DataFrame(normalized_df[['beta_absolute_1', 'beta_absolute_2', \n",
    "                          'beta_absolute_3', 'beta_absolute_4']].mean(axis=1),  columns=['beta'])\n",
    "    beta['timeinterval'] = normalized_df['timeinterval']\n",
    "    # calculating TEI and TDI\n",
    "    tei = pd.DataFrame(beta['beta'] / (alpha['alpha'] + theta['theta']), columns=['tei'])\n",
    "    tei['timeinterval'] = beta['timeinterval']\n",
    "\n",
    "    tdi = pd.DataFrame(theta['theta'] / (alpha['alpha'] + beta['beta']), columns=['tdi'])\n",
    "    tdi['timeinterval'] = beta['timeinterval']\n",
    "    \n",
    "    return tei, tdi"
   ]
  },
  {
   "cell_type": "markdown",
   "metadata": {},
   "source": [
    "## Create result dataframe"
   ]
  },
  {
   "cell_type": "code",
   "execution_count": 12,
   "metadata": {},
   "outputs": [],
   "source": [
    "def get_result_frame(max_time, result_list):\n",
    "    # get results for the last minute that is present in all data sets\n",
    "    start_interval = max_time - 5\n",
    "    end_interval = max_time + 1\n",
    "    col_names = ['p_id', 'programming_task', 'music_cond'] + \\\n",
    "                ['interval_' + str(int(i)) for i in range(start_interval, end_interval)]\n",
    "    res_frame = pd.DataFrame(columns=col_names)\n",
    "    for i in result_list:\n",
    "        p_id = i[0]\n",
    "        prog_cond = i[1]\n",
    "        music_cond = extract_music_condition(music_mapping_file, i[0], i[1])\n",
    "        measures = i[2]\n",
    "        # in case of shorter time intervals, the intervals without signal will be filled with nan\n",
    "        row = pd.DataFrame([[np.nan] * len(col_names)], columns=col_names)\n",
    "        row['p_id'] = p_id\n",
    "        row['programming_task'] = prog_cond\n",
    "        row['music_cond'] = music_cond\n",
    "        for v, t in measures:\n",
    "            if t in list(range(start_interval, end_interval)):\n",
    "                col_name = 'interval_' + str(int(t))\n",
    "                row[col_name] = v\n",
    "        res_frame = res_frame.append(row, sort=False)\n",
    "\n",
    "    return res_frame"
   ]
  },
  {
   "cell_type": "markdown",
   "metadata": {},
   "source": [
    "## Filenames, IDs, Columnnames, etc"
   ]
  },
  {
   "cell_type": "code",
   "execution_count": 13,
   "metadata": {},
   "outputs": [],
   "source": [
    "task_numbers = [1, 2, 3, 4]\n",
    "music_mapping_file = 'music_lookup.csv'"
   ]
  },
  {
   "cell_type": "code",
   "execution_count": 14,
   "metadata": {},
   "outputs": [],
   "source": [
    "directory = 'data/'\n",
    "\n",
    "data_files = os.listdir(directory)\n",
    "cols = ['timestamps', 'theta_absolute_1', 'theta_absolute_2', 'theta_absolute_3', 'theta_absolute_4',\n",
    "            'alpha_absolute_1', 'alpha_absolute_2', 'alpha_absolute_3', 'alpha_absolute_4',\n",
    "            'beta_absolute_1', 'beta_absolute_2', 'beta_absolute_3', 'beta_absolute_4',\n",
    "            'blink','hsi_precision_1', 'hsi_precision_2', 'hsi_precision_3', 'hsi_precision_4']"
   ]
  },
  {
   "cell_type": "markdown",
   "metadata": {},
   "source": [
    "## Looping over the files and extracting the TEI, TDI and blink rate"
   ]
  },
  {
   "cell_type": "code",
   "execution_count": 15,
   "metadata": {
    "scrolled": true
   },
   "outputs": [
    {
     "name": "stdout",
     "output_type": "stream",
     "text": [
      "loading:\n",
      "participant P05\n",
      "programming task 2\n",
      "programming\n"
     ]
    },
    {
     "name": "stderr",
     "output_type": "stream",
     "text": [
      "/Users/hri/anaconda3/lib/python3.6/site-packages/IPython/core/interactiveshell.py:3209: DtypeWarning: Columns (93,94,98) have mixed types. Specify dtype option on import or set low_memory=False.\n",
      "  if (yield from self.run_code(code, result)):\n"
     ]
    },
    {
     "name": "stdout",
     "output_type": "stream",
     "text": [
      "loading baseline file P05_2_break.csv\n"
     ]
    },
    {
     "name": "stderr",
     "output_type": "stream",
     "text": [
      "/Users/hri/anaconda3/lib/python3.6/site-packages/IPython/core/interactiveshell.py:3209: DtypeWarning: Columns (93,94,95) have mixed types. Specify dtype option on import or set low_memory=False.\n",
      "  if (yield from self.run_code(code, result)):\n",
      "/Users/hri/anaconda3/lib/python3.6/site-packages/ipykernel_launcher.py:4: SettingWithCopyWarning: \n",
      "A value is trying to be set on a copy of a slice from a DataFrame.\n",
      "Try using .loc[row_indexer,col_indexer] = value instead\n",
      "\n",
      "See the caveats in the documentation: http://pandas.pydata.org/pandas-docs/stable/indexing.html#indexing-view-versus-copy\n",
      "  after removing the cwd from sys.path.\n"
     ]
    },
    {
     "name": "stdout",
     "output_type": "stream",
     "text": [
      "normalizing the data\n",
      "\n",
      "loading:\n",
      "participant P06\n",
      "programming task 3\n",
      "programming\n",
      "loading baseline file P06_3_break.csv\n",
      "normalizing the data\n",
      "\n",
      "loading:\n",
      "participant P02\n",
      "programming task 4\n",
      "programming\n",
      "loading baseline file P02_4_break.csv\n",
      "normalizing the data\n",
      "\n",
      "loading:\n",
      "participant P12\n",
      "programming task 1\n",
      "programming\n",
      "loading baseline file P12_1_break.csv\n",
      "normalizing the data\n",
      "\n",
      "loading:\n",
      "participant P03\n",
      "programming task 3\n",
      "programming\n",
      "loading baseline file P03_3_break.csv\n",
      "normalizing the data\n",
      "\n",
      "loading:\n",
      "participant P07\n",
      "programming task 4\n",
      "programming\n"
     ]
    },
    {
     "name": "stderr",
     "output_type": "stream",
     "text": [
      "/Users/hri/anaconda3/lib/python3.6/site-packages/IPython/core/interactiveshell.py:3209: DtypeWarning: Columns (97,98,99) have mixed types. Specify dtype option on import or set low_memory=False.\n",
      "  if (yield from self.run_code(code, result)):\n"
     ]
    },
    {
     "name": "stdout",
     "output_type": "stream",
     "text": [
      "loading baseline file P07_4_break.csv\n",
      "normalizing the data\n",
      "\n",
      "loading:\n",
      "participant P04\n",
      "programming task 2\n",
      "programming\n",
      "loading baseline file P04_2_break.csv\n",
      "normalizing the data\n",
      "\n",
      "loading:\n",
      "participant P07\n",
      "programming task 3\n",
      "programming\n",
      "loading baseline file P07_3_break.csv\n",
      "normalizing the data\n",
      "\n",
      "loading:\n",
      "participant P03\n",
      "programming task 4\n",
      "programming\n",
      "loading baseline file P03_4_break.csv\n",
      "normalizing the data\n",
      "\n",
      "loading:\n",
      "participant P01\n",
      "programming task 2\n",
      "programming\n",
      "loading baseline file P01_2_break.csv\n",
      "normalizing the data\n",
      "\n",
      "loading:\n",
      "participant P02\n",
      "programming task 3\n",
      "programming\n",
      "loading baseline file P02_3_break.csv\n",
      "normalizing the data\n",
      "\n",
      "loading:\n",
      "participant P13\n",
      "programming task 1\n",
      "programming\n",
      "loading baseline file P13_1_break.csv\n",
      "normalizing the data\n",
      "\n",
      "loading:\n",
      "participant P06\n",
      "programming task 4\n",
      "programming\n",
      "loading baseline file P06_4_break.csv\n",
      "File P06_4_break.csv does not exist!\n",
      "loading:\n",
      "participant P07\n",
      "programming task 2\n",
      "programming\n",
      "loading baseline file P07_2_break.csv\n",
      "normalizing the data\n",
      "\n",
      "loading:\n",
      "participant P15\n",
      "programming task 1\n",
      "programming\n",
      "loading baseline file P15_1_break.csv\n",
      "normalizing the data\n",
      "\n",
      "loading:\n",
      "participant P04\n",
      "programming task 3\n",
      "programming\n",
      "loading baseline file P04_3_break.csv\n",
      "normalizing the data\n",
      "\n",
      "loading:\n",
      "participant P09\n",
      "programming task 1\n",
      "programming\n",
      "loading baseline file P09_1_break.csv\n",
      "normalizing the data\n",
      "\n",
      "loading:\n",
      "participant P02\n",
      "programming task 2\n",
      "programming\n",
      "loading baseline file P02_2_break.csv\n",
      "normalizing the data\n",
      "\n",
      "loading:\n",
      "participant P01\n",
      "programming task 3\n",
      "programming\n",
      "loading baseline file P01_3_break.csv\n",
      "normalizing the data\n",
      "\n",
      "loading:\n",
      "participant P10\n",
      "programming task 1\n",
      "programming\n"
     ]
    },
    {
     "name": "stderr",
     "output_type": "stream",
     "text": [
      "/Users/hri/anaconda3/lib/python3.6/site-packages/IPython/core/interactiveshell.py:3209: DtypeWarning: Columns (97,98,102) have mixed types. Specify dtype option on import or set low_memory=False.\n",
      "  if (yield from self.run_code(code, result)):\n"
     ]
    },
    {
     "name": "stdout",
     "output_type": "stream",
     "text": [
      "loading baseline file P10_1_break.csv\n",
      "normalizing the data\n",
      "\n",
      "loading:\n",
      "participant P05\n",
      "programming task 4\n",
      "programming\n",
      "loading baseline file P05_4_break.csv\n",
      "normalizing the data\n",
      "\n",
      "loading:\n",
      "participant P06\n",
      "programming task 2\n",
      "programming\n",
      "loading baseline file P06_2_break.csv\n",
      "normalizing the data\n",
      "\n",
      "loading:\n",
      "participant P05\n",
      "programming task 3\n",
      "programming\n",
      "loading baseline file P05_3_break.csv\n",
      "normalizing the data\n",
      "\n",
      "loading:\n",
      "participant P14\n",
      "programming task 1\n",
      "programming\n",
      "loading baseline file P14_1_break.csv\n",
      "normalizing the data\n",
      "\n",
      "loading:\n",
      "participant P08\n",
      "programming task 1\n",
      "programming\n",
      "loading baseline file P08_1_break.csv\n",
      "normalizing the data\n",
      "\n",
      "loading:\n",
      "participant P01\n",
      "programming task 4\n",
      "programming\n",
      "loading baseline file P01_4_break.csv\n",
      "normalizing the data\n",
      "\n",
      "loading:\n",
      "participant P03\n",
      "programming task 2\n",
      "programming\n",
      "loading baseline file P03_2_break.csv\n",
      "normalizing the data\n",
      "\n",
      "loading:\n",
      "participant P11\n",
      "programming task 1\n",
      "programming\n",
      "loading baseline file P11_1_break.csv\n",
      "normalizing the data\n",
      "\n",
      "loading:\n",
      "participant P04\n",
      "programming task 4\n",
      "programming\n",
      "loading baseline file P04_4_break.csv\n",
      "normalizing the data\n",
      "\n",
      "loading:\n",
      "participant P09\n",
      "programming task 3\n",
      "programming\n",
      "loading:\n",
      "participant P11\n",
      "programming task 4\n",
      "programming\n",
      "loading baseline file P11_4_break.csv\n",
      "normalizing the data\n",
      "\n",
      "loading:\n",
      "participant P15\n",
      "programming task 3\n",
      "programming\n",
      "loading baseline file P15_3_break.csv\n",
      "normalizing the data\n",
      "\n",
      "loading:\n",
      "participant P04\n",
      "programming task 1\n",
      "programming\n",
      "loading baseline file P04_1_break.csv\n",
      "normalizing the data\n",
      "\n",
      "loading:\n",
      "participant P14\n",
      "programming task 4\n",
      "programming\n",
      "loading baseline file P14_4_break.csv\n",
      "normalizing the data\n",
      "\n",
      "loading:\n",
      "participant P13\n",
      "programming task 2\n",
      "programming\n",
      "loading baseline file P13_2_break.csv\n",
      "normalizing the data\n",
      "\n",
      "loading:\n",
      "participant P01\n",
      "programming task 1\n",
      "programming\n",
      "loading baseline file P01_1_break.csv\n",
      "normalizing the data\n",
      "\n",
      "loading:\n",
      "participant P10\n",
      "programming task 3\n",
      "programming\n",
      "loading baseline file P10_3_break.csv\n",
      "normalizing the data\n",
      "\n",
      "loading:\n",
      "participant P08\n",
      "programming task 4\n",
      "programming\n",
      "loading baseline file P08_4_break.csv\n",
      "normalizing the data\n",
      "\n",
      "loading:\n",
      "participant P08\n",
      "programming task 3\n",
      "programming\n",
      "loading baseline file P08_3_break.csv\n",
      "normalizing the data\n",
      "\n",
      "loading:\n",
      "participant P10\n",
      "programming task 4\n",
      "programming\n",
      "loading baseline file P10_4_break.csv\n",
      "normalizing the data\n",
      "\n",
      "loading:\n",
      "participant P05\n",
      "programming task 1\n",
      "programming\n",
      "loading baseline file P05_1_break.csv\n",
      "normalizing the data\n",
      "\n",
      "loading:\n",
      "participant P14\n",
      "programming task 3\n",
      "programming\n",
      "loading baseline file P14_3_break.csv\n",
      "normalizing the data\n",
      "\n",
      "loading:\n",
      "participant P15\n",
      "programming task 4\n",
      "programming\n",
      "loading baseline file P15_4_break.csv\n",
      "normalizing the data\n",
      "\n",
      "loading:\n",
      "participant P12\n",
      "programming task 2\n",
      "programming\n",
      "loading baseline file P12_2_break.csv\n",
      "normalizing the data\n",
      "\n",
      "loading:\n",
      "participant P11\n",
      "programming task 3\n",
      "programming\n",
      "loading baseline file P11_3_break.csv\n",
      "normalizing the data\n",
      "\n",
      "loading:\n",
      "participant P09\n",
      "programming task 4\n",
      "programming\n",
      "loading baseline file P09_4_break.csv\n",
      "normalizing the data\n",
      "\n",
      "loading:\n",
      "participant P13\n",
      "programming task 4\n",
      "programming\n",
      "loading baseline file P13_4_break.csv\n",
      "normalizing the data\n",
      "\n",
      "loading:\n",
      "participant P08\n",
      "programming task 2\n",
      "programming\n",
      "loading baseline file P08_2_break.csv\n",
      "normalizing the data\n",
      "\n",
      "loading:\n",
      "participant P14\n",
      "programming task 2\n",
      "programming\n",
      "loading baseline file P14_2_break.csv\n",
      "normalizing the data\n",
      "\n",
      "loading:\n",
      "participant P06\n",
      "programming task 1\n",
      "programming\n",
      "loading baseline file P06_1_break.csv\n",
      "normalizing the data\n",
      "\n",
      "loading:\n",
      "participant P11\n",
      "programming task 2\n",
      "programming\n",
      "loading baseline file P11_2_break.csv\n",
      "normalizing the data\n",
      "\n",
      "loading:\n",
      "participant P12\n",
      "programming task 3\n",
      "programming\n",
      "loading baseline file P12_3_break.csv\n",
      "normalizing the data\n",
      "\n",
      "loading:\n",
      "participant P03\n",
      "programming task 1\n",
      "programming\n",
      "loading baseline file P03_1_break.csv\n",
      "normalizing the data\n",
      "\n",
      "loading:\n",
      "participant P12\n",
      "programming task 4\n",
      "programming\n",
      "loading baseline file P12_4_break.csv\n",
      "normalizing the data\n",
      "\n",
      "loading:\n",
      "participant P09\n",
      "programming task 2\n",
      "programming\n",
      "loading baseline file P09_2_break.csv\n",
      "normalizing the data\n",
      "\n",
      "loading:\n",
      "participant P15\n",
      "programming task 2\n",
      "programming\n",
      "loading baseline file P15_2_break.csv\n",
      "normalizing the data\n",
      "\n",
      "loading:\n",
      "participant P07\n",
      "programming task 1\n",
      "programming\n",
      "loading baseline file P07_1_break.csv\n",
      "normalizing the data\n",
      "\n",
      "loading:\n",
      "participant P10\n",
      "programming task 2\n",
      "programming\n",
      "loading baseline file P10_2_break.csv\n",
      "normalizing the data\n",
      "\n",
      "loading:\n",
      "participant P02\n",
      "programming task 1\n",
      "programming\n",
      "loading baseline file P02_1_break.csv\n",
      "normalizing the data\n",
      "\n",
      "loading:\n",
      "participant P13\n",
      "programming task 3\n",
      "programming\n",
      "loading baseline file P13_3_break.csv\n",
      "normalizing the data\n",
      "\n",
      "filtered out 4 recordings due to bad signal\n",
      "['P06_4_programming.csv', 'P09_1_programming.csv', 'P09_3_programming.csv', 'P11_2_programming.csv']\n"
     ]
    }
   ],
   "source": [
    "tei_results = []\n",
    "tdi_results = []\n",
    "blink_results = []\n",
    "filtered_out = 0\n",
    "files_filtered_out = []\n",
    "max_time_interval = 0\n",
    "min_max_time_interval = 999\n",
    "for f in data_files:\n",
    "    if f.startswith('P'):\n",
    "        p_id, task, condition = extract_file_info(f)\n",
    "        if condition == 'programming':\n",
    "            print('loading:')\n",
    "            print('participant', p_id)\n",
    "            print('programming task', task)\n",
    "            print(condition)\n",
    "            cleaned_data = load_and_clean_file(directory, f)\n",
    "            # exception in case all data was filtered out due to bad signal\n",
    "            if len(cleaned_data) > 0:\n",
    "                base_file = p_id + '_' + task + '_break.csv'\n",
    "                print('loading baseline file', base_file)\n",
    "                try:\n",
    "                    baseline_df = load_and_clean_file(directory, base_file)\n",
    "                except FileNotFoundError:\n",
    "                    print(\"File \" + base_file + \" does not exist!\")\n",
    "                    filtered_out += 1\n",
    "                    files_filtered_out.append(f)\n",
    "                    continue\n",
    "                print('normalizing the data')\n",
    "                print()\n",
    "                normalized_df = normalize_data(baseline_df, cleaned_data)\n",
    "                # set threshold to 24 to only include conditions in which the signal was good over 2/3 of the time\n",
    "                if len(normalized_df) >= 24:\n",
    "                    blink_rates = list(zip(normalized_df['blink'].values.tolist(), normalized_df['timeinterval']))\n",
    "                    tei, tdi = compute_tei_tdi(normalized_df)\n",
    "                    if tei['timeinterval'].max() > max_time_interval:\n",
    "                        max_time_interval = tei['timeinterval'].max()\n",
    "                    if tei['timeinterval'].max() < min_max_time_interval:\n",
    "                        min_max_time_interval = tei['timeinterval'].max()\n",
    "                    blink_results.append([p_id, task, blink_rates])\n",
    "                    tei_results.append([p_id, task, tei.values.tolist()])\n",
    "                    tdi_results.append([p_id, task, tdi.values.tolist()])\n",
    "                else:\n",
    "                    filtered_out += 1\n",
    "                    files_filtered_out.append(f)\n",
    "            else:\n",
    "                filtered_out += 1\n",
    "                files_filtered_out.append(f)\n",
    "print('filtered out %s recordings due to bad signal' %filtered_out)\n",
    "print(files_filtered_out)\n",
    "            "
   ]
  },
  {
   "cell_type": "code",
   "execution_count": 16,
   "metadata": {},
   "outputs": [],
   "source": [
    "tei_df = get_result_frame(min_max_time_interval, tei_results)\n",
    "tdi_df = get_result_frame(min_max_time_interval, tdi_results)\n",
    "blink_df = get_result_frame(min_max_time_interval, blink_results)"
   ]
  },
  {
   "cell_type": "code",
   "execution_count": 17,
   "metadata": {},
   "outputs": [],
   "source": [
    "blink_df.to_csv('results/blink_results.csv', index=None)\n",
    "tdi_df.to_csv('results/tdi_results.csv', index=None)\n",
    "tei_df.to_csv('results/tei_results.csv', index=None)"
   ]
  },
  {
   "cell_type": "markdown",
   "metadata": {},
   "source": [
    "----\n",
    "# The actual analysis\n",
    "----"
   ]
  },
  {
   "cell_type": "markdown",
   "metadata": {},
   "source": [
    "## Getting the average numerical differences between conditions"
   ]
  },
  {
   "cell_type": "code",
   "execution_count": 26,
   "metadata": {
    "scrolled": false
   },
   "outputs": [
    {
     "data": {
      "image/png": "[encoded data removed]",
      "text/plain": [
       "<Figure size 1728x576 with 1 Axes>"
      ]
     },
     "metadata": {
      "needs_background": "light"
     },
     "output_type": "display_data"
    },
    {
     "data": {
      "image/png": "[encoded data removed]",
      "text/plain": [
       "<Figure size 1728x576 with 1 Axes>"
      ]
     },
     "metadata": {
      "needs_background": "light"
     },
     "output_type": "display_data"
    },
    {
     "data": {
      "image/png": "[encoded data removed]",
      "text/plain": [
       "<Figure size 1728x576 with 1 Axes>"
      ]
     },
     "metadata": {
      "needs_background": "light"
     },
     "output_type": "display_data"
    }
   ],
   "source": [
    "# average values for each condition across participants\n",
    "p_ids = ['P01', 'P02', 'P03', 'P04', 'P05', 'P07', 'P08', 'P10', 'P12', 'P13', 'P14', 'P15']\n",
    "comparisons = ['music_cond'] # 'programming_task'\n",
    "measures = ['blink', 'tei', 'tdi']\n",
    "\n",
    "path = 'results/csv_files/60_sec_intervals/'\n",
    "for measure in measures:\n",
    "    temp_df = pd.DataFrame(columns=['PID', 'focus', 'distr', 'own', 'office'])\n",
    "    for p_id in p_ids:\n",
    "        result_file = path + 'plot_data_' + measure + \\\n",
    "                      '_music_comparison_participant_' + p_id + '.csv'\n",
    "        df = pd.read_csv(result_file)\n",
    "        df = df[df.columns[1:]].dropna()\n",
    "        avg = pd.DataFrame(df.mean()).T\n",
    "        avg['PID'] = p_id\n",
    "        temp_df = temp_df.append(avg, sort=True)\n",
    "    titl = 'Average ' + measure + '-rate in each condition across participants'\n",
    "    cmap = cm.get_cmap('Set2')\n",
    "    ax = temp_df.plot.bar(x='PID', figsize=(24,8), grid=True, title=titl, colormap=cmap)\n",
    "    ax.set_xlabel(\"participant\")\n",
    "    ax.set_ylabel(\"value\")\n",
    "    fig_name = path + '000_' + measure + '_comparison_condition_medians.png'\n",
    "    fig = ax.get_figure()\n",
    "    rects = ax.patches\n",
    "    # labels were generated manually from the interview data\n",
    "    labels = ['D','N','N','N','D','L','N','L','L',\n",
    "              'L','D','D','N','L','N','N','L','N',\n",
    "              'N','D','D','D','L','L','L','L','N',\n",
    "              'N','N','N','L','D','N','L','L','D',\n",
    "              'N','N','N','N','N','N','L','L','L',\n",
    "              'L','N','L']\n",
    "    for rect, label in zip(rects, labels):\n",
    "        height = rect.get_height()\n",
    "        ax.text(rect.get_x() + rect.get_width() / 2, -0.01, label,\n",
    "                ha='center', va='bottom')\n",
    "    fig.savefig(fig_name)"
   ]
  },
  {
   "cell_type": "code",
   "execution_count": 20,
   "metadata": {},
   "outputs": [],
   "source": [
    "measurement = ['blink', 'tei', 'tdi']\n",
    "# excluding the participants that had a bad signal quality\n",
    "p_ids = ['P01', 'P02', 'P03', 'P04', 'P05', 'P07', 'P08', 'P10', 'P12', 'P13', 'P14', 'P15']"
   ]
  },
  {
   "cell_type": "markdown",
   "metadata": {},
   "source": [
    "### Trying to find differences between music conditions"
   ]
  },
  {
   "cell_type": "code",
   "execution_count": 21,
   "metadata": {
    "scrolled": false
   },
   "outputs": [
    {
     "name": "stdout",
     "output_type": "stream",
     "text": [
      "measure\n",
      "blink\n",
      "avg diffs across participants\n",
      "distr-focus avg    -0.014020\n",
      "own-focus avg      -0.006492\n",
      "office-focus avg   -0.011799\n",
      "own-distr avg       0.007528\n",
      "office-distr avg    0.002221\n",
      "office-own avg     -0.005307\n",
      "dtype: float64\n",
      "\n",
      "\n",
      "measure\n",
      "tei\n",
      "avg diffs across participants\n",
      "distr-focus avg    -1.263139\n",
      "own-focus avg       0.653055\n",
      "office-focus avg    0.429290\n",
      "own-distr avg       1.916193\n",
      "office-distr avg    1.692428\n",
      "office-own avg     -0.223765\n",
      "dtype: float64\n",
      "\n",
      "\n",
      "measure\n",
      "tdi\n",
      "avg diffs across participants\n",
      "distr-focus avg     1.583519\n",
      "own-focus avg       1.658115\n",
      "office-focus avg    0.457850\n",
      "own-distr avg       0.074596\n",
      "office-distr avg   -1.125669\n",
      "office-own avg     -1.200265\n",
      "dtype: float64\n",
      "\n",
      "\n"
     ]
    }
   ],
   "source": [
    "# load difference-files for each participant\n",
    "diff_columns = ['PID', 'distr-focus avg', 'own-focus avg', 'office-focus avg', 'own-distr avg', 'office-distr avg', \n",
    "                'office-own avg'] \n",
    "avg_cols = ['distr-focus avg', 'own-focus avg', 'office-focus avg', 'own-distr avg', 'office-distr avg', \n",
    "            'office-own avg'] \n",
    "for measure in measurement:\n",
    "    diff_avg_df = pd.DataFrame(columns=diff_columns)\n",
    "    for p_id in p_ids:\n",
    "        row = pd.DataFrame(columns=diff_columns)\n",
    "        row['PID'] = [p_id]\n",
    "        filename = 'results/csv_files/60_sec_intervals/music_conditions_differences_'\\\n",
    "        + p_id + '_' + measure + '.csv'\n",
    "        diff_df = pd.read_csv(filename)\n",
    "        diff_df.dropna(inplace=True)\n",
    "        diff_df.rename(columns={'Unnamed: 0':'PID'}, inplace=True)\n",
    "        for col in diff_df.columns[1:]:\n",
    "            row[col + ' avg'] = diff_df[col].mean()\n",
    "        diff_avg_df = diff_avg_df.append(row, sort=False)\n",
    "    # save file to csv\n",
    "    result_filename = 'results/csv_files/60_sec_intervals/00_numerical_diffs_' + measure\\\n",
    "    + '.csv'\n",
    "    avg_diffs = diff_avg_df[avg_cols].mean(axis=0)\n",
    "    print('measure')\n",
    "    print(measure)\n",
    "    print('avg diffs across participants')\n",
    "    print(avg_diffs)\n",
    "    print()\n",
    "    print()\n"
   ]
  },
  {
   "cell_type": "code",
   "execution_count": 22,
   "metadata": {
    "scrolled": false
   },
   "outputs": [
    {
     "data": {
      "text/plain": [
       "Text(0,0.5,'difference')"
      ]
     },
     "execution_count": 22,
     "metadata": {},
     "output_type": "execute_result"
    },
    {
     "data": {
      "image/png": "[encoded data removed]",
      "text/plain": [
       "<Figure size 1152x720 with 1 Axes>"
      ]
     },
     "metadata": {
      "needs_background": "light"
     },
     "output_type": "display_data"
    }
   ],
   "source": [
    "titl = 'Average difference between conditions in ' + measure + '-rate across participants'\n",
    "ax = diff_avg_df.plot.bar(x='PID', figsize=(16,10), grid=True, title=titl)\n",
    "ax.set_xlabel(\"participant\")\n",
    "ax.set_ylabel(\"difference\")"
   ]
  },
  {
   "cell_type": "markdown",
   "metadata": {},
   "source": [
    "### Including the standard deviation for each participant and each music condition"
   ]
  },
  {
   "cell_type": "code",
   "execution_count": 23,
   "metadata": {
    "scrolled": true
   },
   "outputs": [
    {
     "name": "stdout",
     "output_type": "stream",
     "text": [
      "blink\n",
      "   PID   distr avg  distr std    focus avg  focus std   office avg  \\\n",
      "0  P01   0.0374074        0.0    0.0257407        0.0     0.012037   \n",
      "0  P02       0.005        0.0   0.00685185        0.0        0.005   \n",
      "0  P03 -0.00163934        0.0  -0.00655738        0.0  2.73224e-05   \n",
      "0  P04   0.0310119        0.0   -0.0037968        0.0    0.0709656   \n",
      "0  P05   0.0300273        0.0   0.00693382        0.0    0.0185458   \n",
      "0  P07   0.0406462        0.0     0.281389        0.0    0.0918564   \n",
      "0  P08           0        0.0        0.005        0.0    0.0109259   \n",
      "0  P10  -0.0799636        0.0   -0.0461506        0.0   -0.0709047   \n",
      "0  P12   0.0271828        0.0   -0.0110808        0.0    0.0116606   \n",
      "0  P13        0.01        0.0   0.00987553        0.0     0.015425   \n",
      "0  P14  0.00985732        0.0    0.0297753        0.0   -0.0172617   \n",
      "0  P15   0.0205449        0.0  0.000334499        0.0   0.00844566   \n",
      "\n",
      "   office std      own avg  own std  \n",
      "0         0.0    0.0403704      0.0  \n",
      "0         0.0        0.005      0.0  \n",
      "0         0.0  -0.00489071      0.0  \n",
      "0         0.0    0.0279447      0.0  \n",
      "0         0.0    0.0352125      0.0  \n",
      "0         0.0     0.137457      0.0  \n",
      "0         0.0         0.01      0.0  \n",
      "0         0.0   -0.0308561      0.0  \n",
      "0         0.0   -0.0349909      0.0  \n",
      "0         0.0    0.0292593      0.0  \n",
      "0         0.0  0.000664845      0.0  \n",
      "0         0.0   0.00523983      0.0  \n",
      "tei\n",
      "   PID distr avg  distr std focus avg  focus std office avg  office std  \\\n",
      "0  P01   1.47598        0.0   0.74621        0.0    1.90123         0.0   \n",
      "0  P02   1.31229        0.0   1.03144        0.0     0.9792         0.0   \n",
      "0  P03  -13.0684        0.0  0.298503        0.0   -2.16236         0.0   \n",
      "0  P04 -0.341928        0.0   1.33388        0.0   -1.05821         0.0   \n",
      "0  P05  0.664851        0.0   0.49928        0.0   0.542325         0.0   \n",
      "0  P07  0.470468        0.0   4.17727        0.0    8.95046         0.0   \n",
      "0  P08 -0.390409        0.0  -9.44217        0.0   0.165452         0.0   \n",
      "0  P10  -9.05648        0.0  -1.69765        0.0   -6.64179         0.0   \n",
      "0  P12  0.582662        0.0 -0.150917        0.0   0.807308         0.0   \n",
      "0  P13  0.189661        0.0  0.553661        0.0   0.845672         0.0   \n",
      "0  P14  0.385545        0.0  0.443717        0.0   -2.00993         0.0   \n",
      "0  P15  0.803789        0.0  0.392505        0.0    1.01783         0.0   \n",
      "\n",
      "     own avg  own std  \n",
      "0   0.785952      0.0  \n",
      "0   0.516869      0.0  \n",
      "0   -0.49968      0.0  \n",
      "0 -0.0312089      0.0  \n",
      "0    0.51782      0.0  \n",
      "0   0.340287      0.0  \n",
      "0    1.88203      0.0  \n",
      "0   -1.40127      0.0  \n",
      "0    1.77185      0.0  \n",
      "0    1.07572      0.0  \n",
      "0   0.424056      0.0  \n",
      "0    0.63995      0.0  \n",
      "tdi\n",
      "   PID distr avg  distr std  focus avg  focus std office avg  office std  \\\n",
      "0  P01  0.294007        0.0   0.539446        0.0   0.388762         0.0   \n",
      "0  P02  0.800386        0.0   0.484111        0.0   0.464599         0.0   \n",
      "0  P03 -0.805488        0.0  -0.851945        0.0  -0.672544         0.0   \n",
      "0  P04  -1.04866        0.0   -5.77974        0.0   -2.39117         0.0   \n",
      "0  P05  0.630108        0.0   0.723679        0.0   0.804878         0.0   \n",
      "0  P07  0.620417        0.0  0.0803688        0.0   0.339663         0.0   \n",
      "0  P08   9.04181        0.0  -0.225137        0.0   -1.60653         0.0   \n",
      "0  P10 -0.170208        0.0   -2.76777        0.0  -0.301243         0.0   \n",
      "0  P12  0.937326        0.0 -0.0547546        0.0   0.409998         0.0   \n",
      "0  P13  0.948479        0.0  -0.269029        0.0   0.743738         0.0   \n",
      "0  P14  0.707349        0.0   0.752193        0.0   0.259567         0.0   \n",
      "0  P15  0.392143        0.0   0.714015        0.0   0.399921         0.0   \n",
      "\n",
      "    own avg  own std  \n",
      "0  0.547155      0.0  \n",
      "0  0.710616      0.0  \n",
      "0 -0.852822      0.0  \n",
      "0 -0.214602      0.0  \n",
      "0  0.881048      0.0  \n",
      "0 -0.508959      0.0  \n",
      "0   1.12216      0.0  \n",
      "0 -0.552693      0.0  \n",
      "0  0.145047      0.0  \n",
      "0   10.8799      0.0  \n",
      "0  0.606839      0.0  \n",
      "0  0.479175      0.0  \n"
     ]
    }
   ],
   "source": [
    "# Load csv files for each participant, get average and std for each condition, (add to new dataframe,?) plot dataframe\n",
    "cols = ['PID', 'focus avg', 'focus std', 'distr avg', 'distr std', 'own avg', 'own std', 'office avg', 'office std']\n",
    "for measure in measurement:\n",
    "    avg_df = pd.DataFrame(columns=cols)\n",
    "    for p_id in p_ids:\n",
    "        filename = 'results/csv_files/60_sec_intervals/plot_data_' + measure + \\\n",
    "        '_music_comparison_participant_' + str(p_id) + '.csv'\n",
    "        p_df = pd.read_csv(filename)\n",
    "        p_df.dropna(inplace=True)\n",
    "        avg_cols = p_df.columns[1:]\n",
    "        p_avg_df = p_df[avg_cols].mean(axis=0)\n",
    "        p_avg_df['PID'] = p_id\n",
    "        p_avg_df = pd.DataFrame(p_avg_df).T\n",
    "        for col in p_df.columns[1:]:\n",
    "            p_avg_df.rename(columns={col: col + ' avg'}, inplace=True)\n",
    "            p_avg_df[col + ' std'] = np.std(p_df[col])\n",
    "        avg_df = avg_df.append(p_avg_df, sort=True)\n",
    "    print(measure)\n",
    "    print(avg_df)"
   ]
  },
  {
   "cell_type": "markdown",
   "metadata": {},
   "source": [
    "# Statistical Test\n",
    "Using ANOVA RM"
   ]
  },
  {
   "cell_type": "markdown",
   "metadata": {},
   "source": [
    "Preparing the data. DataFrame format: PID - condition - dependend variable"
   ]
  },
  {
   "cell_type": "code",
   "execution_count": 24,
   "metadata": {},
   "outputs": [],
   "source": [
    "def anv_rm(dep_var, p_ids):\n",
    "    anova_rm_df = pd.DataFrame(columns=['PID', 'cond', 'dependend_var'])\n",
    "    for p_id in p_ids:\n",
    "        filename = 'results/csv_files/60_sec_intervals/plot_data_' + dep_var + \\\n",
    "                   '_music_comparison_participant_' + str(p_id) + '.csv'\n",
    "        p_df = pd.read_csv(filename)\n",
    "        p_df.dropna(inplace=True)\n",
    "        avg_cols = p_df.columns[1:]\n",
    "        p_avg_df =  pd.DataFrame(p_df[avg_cols].mean(axis=0))\n",
    "        p_avg_df['PID'] = p_id\n",
    "        p_avg_df['cond'] = p_avg_df.index\n",
    "        p_avg_df.rename(columns={0: 'dependend_var'}, inplace=True)\n",
    "        anova_rm_df = anova_rm_df.append(p_avg_df, sort=True)\n",
    "        \n",
    "    aovrm = AnovaRM(data=anova_rm_df, depvar='dependend_var', subject='PID', within=['cond'])\n",
    "    res = aovrm.fit()\n",
    "    return res"
   ]
  },
  {
   "cell_type": "code",
   "execution_count": 25,
   "metadata": {},
   "outputs": [
    {
     "name": "stdout",
     "output_type": "stream",
     "text": [
      "blink rate\n",
      "              Anova\n",
      "==================================\n",
      "     Num DF  Den DF F Value Pr > F\n",
      "----------------------------------\n",
      "cond 3.0000 33.0000  0.3857 0.7640\n",
      "==================================\n",
      "\n",
      "\n",
      "TDI\n",
      "              Anova\n",
      "==================================\n",
      "     Num DF  Den DF F Value Pr > F\n",
      "----------------------------------\n",
      "cond 3.0000 33.0000  1.8000 0.1664\n",
      "==================================\n",
      "\n",
      "\n",
      "TEI\n",
      "              Anova\n",
      "==================================\n",
      "     Num DF  Den DF F Value Pr > F\n",
      "----------------------------------\n",
      "cond 3.0000 33.0000  1.0713 0.3746\n",
      "==================================\n",
      "\n"
     ]
    }
   ],
   "source": [
    "p_ids = ['P01', 'P02', 'P03', 'P04', 'P05', 'P07', 'P08', 'P10', 'P12', 'P13', 'P14', 'P15'] \n",
    "anova_results_blink = anv_rm('blink', p_ids)\n",
    "anova_results_tdi = anv_rm('tdi', p_ids)\n",
    "anova_results_tei = anv_rm('tei', p_ids)\n",
    "print('blink rate')\n",
    "print(anova_results_blink)\n",
    "print()\n",
    "print('TDI')\n",
    "print(anova_results_tdi)\n",
    "print()\n",
    "print('TEI')\n",
    "print(anova_results_tei)"
   ]
  }
 ],
 "metadata": {
  "kernelspec": {
   "display_name": "Python 3",
   "language": "python",
   "name": "python3"
  },
  "language_info": {
   "codemirror_mode": {
    "name": "ipython",
    "version": 3
   },
   "file_extension": ".py",
   "mimetype": "text/x-python",
   "name": "python",
   "nbconvert_exporter": "python",
   "pygments_lexer": "ipython3",
   "version": "3.6.9"
  }
 },
 "nbformat": 4,
 "nbformat_minor": 2
}
